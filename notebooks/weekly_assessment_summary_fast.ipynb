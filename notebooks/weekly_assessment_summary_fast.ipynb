{
 "cells": [
  {
   "cell_type": "markdown",
   "id": "lyric-seven",
   "metadata": {},
   "source": [
    "# Fast generation of healthy and unhealthy assessment counts by period"
   ]
  },
  {
   "cell_type": "code",
   "execution_count": null,
   "id": "supported-tragedy",
   "metadata": {},
   "outputs": [],
   "source": [
    "%matplotlib inline\n",
    "import math\n",
    "\n",
    "import numpy as np\n",
    "from numba import njit\n",
    "import matplotlib.pyplot as plt\n",
    "\n",
    "from exetera.core.session import Session\n",
    "from exetera.core.utils import Timer\n",
    "from exetera.processing.date_time_helpers import\\\n",
    "    get_periods, generate_period_offset_map, get_days, get_period_offsets"
   ]
  },
  {
   "cell_type": "markdown",
   "id": "killing-restriction",
   "metadata": {},
   "source": [
    "### Helper functions"
   ]
  },
  {
   "cell_type": "code",
   "execution_count": null,
   "id": "large-thailand",
   "metadata": {},
   "outputs": [],
   "source": [
    "def human_readable_date(date):\n",
    "    '''\n",
    "    Transfer the float timestamp to a string representated date.\n",
    "    '''\n",
    "    if isinstance(date, float):\n",
    "        date = datetime.fromtimestamp(date)\n",
    "    return date.strftime(\"%Y-%m-%d\")"
   ]
  },
  {
   "cell_type": "markdown",
   "id": "active-bracket",
   "metadata": {},
   "source": [
    "## Fill in these parameters"
   ]
  },
  {
   "cell_type": "code",
   "execution_count": null,
   "id": "structured-cycling",
   "metadata": {},
   "outputs": [],
   "source": [
    "from datetime import datetime, timedelta\n",
    "\n",
    "filename = # filename\n",
    "start_dt = # the starting datetime\n",
    "end_dt = # the ending datetime"
   ]
  },
  {
   "cell_type": "markdown",
   "id": "soviet-passport",
   "metadata": {},
   "source": [
    "## Generate the summaries by seven day period"
   ]
  },
  {
   "cell_type": "markdown",
   "id": "mexican-directory",
   "metadata": {},
   "source": [
    "### Generate the seven day periods corresponding to the start and end dates"
   ]
  },
  {
   "cell_type": "code",
   "execution_count": null,
   "id": "signal-economics",
   "metadata": {},
   "outputs": [],
   "source": [
    "# Trunk the dates range into seven-day periods\n",
    "start_ts = start_dt.timestamp()\n",
    "end_ts = end_dt.timestamp()\n",
    "periods = get_periods(end_dt, start_dt, 'week', -1)\n",
    "periods.reverse()\n",
    "print(\"Weekly periods from {} to {}\".format(human_readable_date(periods[0]),\n",
    "                                            human_readable_date(periods[-1])))"
   ]
  },
  {
   "cell_type": "markdown",
   "id": "directed-enzyme",
   "metadata": {},
   "source": [
    "### Create the Session object\n",
    "Note, you can also use `with Session() as s:` if you don't mind opening the session in each cell"
   ]
  },
  {
   "cell_type": "code",
   "execution_count": null,
   "id": "qualified-burlington",
   "metadata": {},
   "outputs": [],
   "source": [
    "s = Session()  # Open the ExeTera session \n",
    "src = s.open_dataset(filename, 'r', 'src')  # Open the dataset with read-only 'r' mode\n",
    "assessment_df = src['assessments']  # Get the dataframe named 'assessments'"
   ]
  },
  {
   "cell_type": "markdown",
   "id": "fresh-keyboard",
   "metadata": {},
   "source": [
    "### Get the timestamp for each user signup"
   ]
  },
  {
   "cell_type": "code",
   "execution_count": null,
   "id": "protecting-berry",
   "metadata": {},
   "outputs": [],
   "source": [
    "with Timer(\"Fetching assessment 'created_at' values\"):  # Record the time usage\n",
    "    created_at_dates = assessment_df['created_at'].data[:]   # Load data from 'created_at' field into memory"
   ]
  },
  {
   "cell_type": "markdown",
   "id": "understood-entry",
   "metadata": {},
   "source": [
    "### Calculate on what day (relative to the start of the first period) each user signed up\n",
    "`get_days` also returns a filter indicating whether a given record is within the date range of interest"
   ]
  },
  {
   "cell_type": "code",
   "execution_count": null,
   "id": "addressed-provider",
   "metadata": {},
   "outputs": [],
   "source": [
    "with Timer(\"Calculating day offsets for assessments\"):\n",
    "    # Converts a field of timestamps into a field of relative elapsed days\n",
    "    created_at_days, inrange = get_days(created_at_dates,\n",
    "                                        start_date=periods[0].timestamp(),\n",
    "                                        end_date=periods[-1].timestamp())"
   ]
  },
  {
   "cell_type": "markdown",
   "id": "minute-sugar",
   "metadata": {},
   "source": [
    "### Clear the days that fall outside of the specified range"
   ]
  },
  {
   "cell_type": "code",
   "execution_count": null,
   "id": "textile-swaziland",
   "metadata": {},
   "outputs": [],
   "source": [
    "with Timer(\"Filter out days that fall outside of the specified range\"):\n",
    "    created_at_days = created_at_days[inrange]"
   ]
  },
  {
   "cell_type": "markdown",
   "id": "dramatic-right",
   "metadata": {},
   "source": [
    "### Map the days to their corresponding periods\n",
    "We generate the map using `generate_period_offset_map` and then pass it to `generate_period_offsets`"
   ]
  },
  {
   "cell_type": "code",
   "execution_count": null,
   "id": "opponent-sample",
   "metadata": {},
   "outputs": [],
   "source": [
    "with Timer(\"Convert from days to periods\"):\n",
    "    created_at_periods = get_period_offsets(generate_period_offset_map(periods),\n",
    "                                            created_at_days)\n",
    "    # cat_counts = np.unique(cat_period, return_counts=True)"
   ]
  },
  {
   "cell_type": "markdown",
   "id": "manual-final",
   "metadata": {},
   "source": [
    "### Generate 'healthy' and 'unhealthy' assessment filters\n",
    "Consider assessments with no health status to be 'healthy'"
   ]
  },
  {
   "cell_type": "code",
   "execution_count": null,
   "id": "grand-alexander",
   "metadata": {},
   "outputs": [],
   "source": [
    "with Timer(\"Generate healthy and unhealthy status arrays\"):\n",
    "    unhealthy = assessment_df['health_status'].apply_filter(inrange) == 2  # Filter assessments according to data value defined in scheme\n",
    "    healthy = assessment_df['health_status'].apply_filter(inrange) != 2"
   ]
  },
  {
   "cell_type": "markdown",
   "id": "proper-export",
   "metadata": {},
   "source": [
    "### Summarise unhealthy and healthy by period"
   ]
  },
  {
   "cell_type": "code",
   "execution_count": null,
   "id": "threatened-factory",
   "metadata": {},
   "outputs": [],
   "source": [
    "with Timer(\"Summarise unhealthy and healthy by period\"):\n",
    "    healthy_counts = np.unique(created_at_periods[healthy.data[:]], return_counts=True)  # Count number of healthy assessments in each period\n",
    "    all_healthy_counts = np.zeros(len(periods), dtype=np.int32)\n",
    "    for k, v in zip(healthy_counts[0], healthy_counts[1]):\n",
    "        all_healthy_counts[k] = v\n",
    "\n",
    "    unhealthy_counts = np.unique(created_at_periods[unhealthy.data[:]], return_counts=True)  # Count number of unhealthy assessments\n",
    "    all_unhealthy_counts = np.zeros(len(periods), dtype=np.int32)\n",
    "    for k, v in zip(unhealthy_counts[0], unhealthy_counts[1]):\n",
    "        all_unhealthy_counts[k] = v"
   ]
  },
  {
   "cell_type": "markdown",
   "id": "noticed-hampton",
   "metadata": {},
   "source": [
    "## Generate the charts for healthy / unhealthy assessments"
   ]
  },
  {
   "cell_type": "code",
   "execution_count": null,
   "id": "heavy-separation",
   "metadata": {},
   "outputs": [],
   "source": [
    "width = 1\n",
    "widths = [width * d for d in range(len(periods))]\n",
    "\n",
    "fig, ax = plt.subplots(2, 1, figsize=(10, 10))\n",
    "\n",
    "negtests = ax[0].bar(widths, all_healthy_counts)\n",
    "postests = ax[0].bar(widths, all_unhealthy_counts, bottom=all_healthy_counts)\n",
    "\n",
    "ax[0].set_title(\"Assessment counts by week\")\n",
    "ax[0].set_xticks(np.arange(len(periods)-1))\n",
    "ax[0].set_xticklabels([human_readable_date(d) for d in periods[:-1]], rotation=270)\n",
    "ax[0].set_yticks(np.arange(10) * 1000000)\n",
    "ax[0].set_yticklabels(i for i in range(10))\n",
    "ax[0].legend((negtests, postests), (\"'Healthy'\", \"'Unhealthy'\"))\n",
    "ax[0].set_xlabel(\"Week starting\")\n",
    "ax[0].set_ylabel(\"Million assessments per week\")\n",
    "\n",
    "all_counts = all_unhealthy_counts + all_healthy_counts\n",
    "all_counts = np.where(all_counts == 0, 1, all_counts)\n",
    "\n",
    "pos_fraction = all_unhealthy_counts / all_counts\n",
    "pfbar = ax[1].bar(widths, pos_fraction, color=\"#ff7f0e\")\n",
    "\n",
    "ax[1].set_title(\"'Unhealthy' assessments as a fraction of assessments by week\")\n",
    "ax[1].set_xticks(np.arange(len(periods)-1))\n",
    "ax[1].set_xticklabels([human_readable_date(d) for d in periods[:-1]], rotation=270)\n",
    "ax[1].legend((pfbar,), (\"Positive test fraction\",))\n",
    "ax[1].set_xlabel(\"Week starting\")\n",
    "ax[1].set_ylabel(\"'Unhealthy' assessment fraction\")\n",
    "\n",
    "fig.tight_layout(h_pad=2.5)\n",
    "plt.show()"
   ]
  },
  {
   "cell_type": "code",
   "execution_count": null,
   "id": "f543663f-4969-47d0-8530-44004904f041",
   "metadata": {},
   "outputs": [],
   "source": [
    "# Close the session manually; not needed if opening the session using 'with' statement.\n",
    "s.close()"
   ]
  }
 ],
 "metadata": {
  "kernelspec": {
   "display_name": "Python 3",
   "language": "python",
   "name": "python3"
  },
  "language_info": {
   "codemirror_mode": {
    "name": "ipython",
    "version": 3
   },
   "file_extension": ".py",
   "mimetype": "text/x-python",
   "name": "python",
   "nbconvert_exporter": "python",
   "pygments_lexer": "ipython3",
   "version": "3.8.5"
  }
 },
 "nbformat": 4,
 "nbformat_minor": 5
}
