{
 "cells": [
  {
   "cell_type": "code",
   "execution_count": null,
   "metadata": {},
   "outputs": [],
   "source": [
    "!pip install exeteracovid"
   ]
  },
  {
   "cell_type": "code",
   "execution_count": 1,
   "metadata": {},
   "outputs": [],
   "source": [
    "\"\"\"\n",
    "As a scientific data processing tool, Exetera provides the ability to handle underlying data storage automatically.\n",
    "Hence, the first step is to specify the source dataset containing the data to process and the destination dataset \n",
    "that can write the results.\n",
    "For more details: https://github.com/KCL-BMEIS/ExeTera/wiki/What-Is-ExeTera\n",
    "\"\"\"\n",
    "source_data = '/home/jie/bmeis/data/March31.hdf5'# the dataset from which the patient and assessment data is read\n",
    "dest_data = '/home/jie/bmeis/data/result.hdf5' # the dataset to which the patient and assessment data is written"
   ]
  },
  {
   "cell_type": "code",
   "execution_count": 6,
   "metadata": {},
   "outputs": [
    {
     "name": "stdout",
     "output_type": "stream",
     "text": [
      "merging: completed in 2.349379301071167 seconds\n"
     ]
    }
   ],
   "source": [
    "\"\"\"\n",
    "This example shows how the merge operation works in Exetera. \n",
    "Assume there are two dataframes from the dataset, namely patients and assessments. We want to merge the patient \n",
    "information (age, weight_kg, and height_cm) from the patients dataframe to the assessments dataframe, by matching \n",
    "the 'id' field in patients with 'patient_id' field in assessments.\n",
    "After merging, the patient information (age, weight_kg, and height_cm) will show up in the destination assessments \n",
    "dataframe, as well as the data storage utilized by destination assessments. \n",
    "More details: https://github.com/KCL-BMEIS/ExeTera/wiki/Intermediate-Examples#joining--merging\n",
    "\"\"\"\n",
    "from exetera.core.session import Session\n",
    "from exetera.core import dataframe\n",
    "from exetera.core.utils import Timer\n",
    "\n",
    "# Everything starts creating a session. Using 'with' allows the datasets that we open to\n",
    "# close automatically\n",
    "with Session() as s:\n",
    "    # You can open multiple datasets. It is generally wise to write intermediate results\n",
    "    # to a separate dataset, rather than adding to the base dataset\n",
    "    src = s.open_dataset(source_data, 'r', 'src')\n",
    "    dest = s.open_dataset(dest_data, 'w', 'dest')\n",
    "\n",
    "    # Get the patients and assessments dataframe from the source data, for convenience\n",
    "    s_ptnts = src['patients']\n",
    "    s_asmts = src['assessments']\n",
    "    \n",
    "    # Create the assessments group for the joined data\n",
    "    d_asmts = dest.create_dataframe('assessments')\n",
    "\n",
    "    # When you want to perform a join on a number of fields, it is useful to build a sequence of keys\n",
    "    ptnt_keys = ('age', 'weight_kg', 'height_cm')\n",
    "\n",
    "    # Get the tuple of fields that we want to join\n",
    "    merge_sources = tuple(s_ptnts[k] for k in ptnt_keys)\n",
    "    \n",
    "    # Get a tuple of empty fields that we are writing the joined data to\n",
    "    merge_sinks = tuple(s_ptnts[k].create_like(d_asmts, k) for k in ptnt_keys)\n",
    "    \n",
    "    # Get the patient 'id' field (primary key) and the assessment 'patient_id' field (foreign key)\n",
    "    p_ids = s_ptnts['id']\n",
    "    a_pids = s_asmts['patient_id']\n",
    "    \n",
    "    # Note, the merge may take a few minutes to complete!\n",
    "    with Timer(\"merging\"):\n",
    "        s.ordered_merge_left(left_on=a_pids, right_on=p_ids, right_field_sources=merge_sources, left_field_sinks=merge_sinks, right_unique=True)"
   ]
  },
  {
   "cell_type": "code",
   "execution_count": 8,
   "metadata": {},
   "outputs": [
    {
     "ename": "ValueError",
     "evalue": "operands could not be broadcast together with shapes (63,) (101,) ",
     "output_type": "error",
     "traceback": [
      "\u001b[0;31m---------------------------------------------------------------------------\u001b[0m",
      "\u001b[0;31mValueError\u001b[0m                                Traceback (most recent call last)",
      "\u001b[0;32m<ipython-input-8-3db442987c06>\u001b[0m in \u001b[0;36m<module>\u001b[0;34m\u001b[0m\n\u001b[1;32m     30\u001b[0m     \u001b[0max\u001b[0m\u001b[0;34m[\u001b[0m\u001b[0;36m2\u001b[0m\u001b[0;34m]\u001b[0m\u001b[0;34m.\u001b[0m\u001b[0mset_xlabel\u001b[0m\u001b[0;34m(\u001b[0m\u001b[0;34m\"Age in years\"\u001b[0m\u001b[0;34m)\u001b[0m\u001b[0;34m\u001b[0m\u001b[0;34m\u001b[0m\u001b[0m\n\u001b[1;32m     31\u001b[0m     \u001b[0max\u001b[0m\u001b[0;34m[\u001b[0m\u001b[0;36m2\u001b[0m\u001b[0;34m]\u001b[0m\u001b[0;34m.\u001b[0m\u001b[0mset_ylabel\u001b[0m\u001b[0;34m(\u001b[0m\u001b[0;34m\"Avg. assessments per patient\"\u001b[0m\u001b[0;34m)\u001b[0m\u001b[0;34m\u001b[0m\u001b[0;34m\u001b[0m\u001b[0m\n\u001b[0;32m---> 32\u001b[0;31m     \u001b[0max\u001b[0m\u001b[0;34m[\u001b[0m\u001b[0;36m2\u001b[0m\u001b[0;34m]\u001b[0m\u001b[0;34m.\u001b[0m\u001b[0mbar\u001b[0m\u001b[0;34m(\u001b[0m\u001b[0ma_age\u001b[0m\u001b[0;34m[\u001b[0m\u001b[0;34m:\u001b[0m\u001b[0;36m101\u001b[0m\u001b[0;34m]\u001b[0m\u001b[0;34m,\u001b[0m \u001b[0ma_count\u001b[0m\u001b[0;34m[\u001b[0m\u001b[0;34m:\u001b[0m\u001b[0;36m101\u001b[0m\u001b[0;34m]\u001b[0m \u001b[0;34m/\u001b[0m \u001b[0mp_count\u001b[0m\u001b[0;34m[\u001b[0m\u001b[0;34m:\u001b[0m\u001b[0;36m101\u001b[0m\u001b[0;34m]\u001b[0m\u001b[0;34m)\u001b[0m\u001b[0;34m\u001b[0m\u001b[0;34m\u001b[0m\u001b[0m\n\u001b[0m",
      "\u001b[0;31mValueError\u001b[0m: operands could not be broadcast together with shapes (63,) (101,) "
     ]
    },
    {
     "data": {
      "image/png": "[encoded data removed]",
      "text/plain": [
       "<Figure size 864x720 with 3 Axes>"
      ]
     },
     "metadata": {
      "needs_background": "light"
     },
     "output_type": "display_data"
    }
   ],
   "source": [
    "\"\"\"\n",
    "As we have patient information associated with assessments from the merging section, now we can investigate the \n",
    "distribution of assessments against the patient info, such as age shown in the example below.\n",
    "\"\"\"\n",
    "import numpy as np\n",
    "from matplotlib import pyplot as plt\n",
    "\n",
    "# Start the Exetera session\n",
    "with Session() as s:\n",
    "    #Open the datasets\n",
    "    src = s.open_dataset(source_data, 'r', 'src')\n",
    "    dest = s.open_dataset(dest_data, 'r', 'dest')\n",
    "    \n",
    "    #Get the distribution of age in both the patient sample and the assessment sample\n",
    "    p_age, p_count = np.unique(src['patients']['age'].data[:], return_counts=True)\n",
    "    a_age, a_count = np.unique(dest['assessments']['age'].data[:], return_counts=True)\n",
    "    \n",
    "    #Plot the number of patients per each age in years;\n",
    "    fig, ax = plt.subplots(3, 1, figsize=(12, 10))\n",
    "    ax[0].set_xlabel(\"Age in years\")\n",
    "    ax[0].set_ylabel(\"Number of patients\")\n",
    "    ax[0].bar(p_age[:101], p_count[:101])\n",
    "    \n",
    "    #Plot the number of assessments per each age in years;\n",
    "    ax[1].set_xlabel(\"Age in years\")\n",
    "    ax[1].set_ylabel(\"Number of assessments\")\n",
    "    ax[1].bar(a_age[:101], a_count[:101])\n",
    "    \n",
    "    #And plot the average number of assessments per patients by each age in years. \n",
    "    ax[2].set_xlabel(\"Age in years\")\n",
    "    ax[2].set_ylabel(\"Avg. assessments per patient\")\n",
    "    ax[2].bar(a_age[:101], a_count[:101] / p_count[:101])"
   ]
  },
  {
   "cell_type": "code",
   "execution_count": null,
   "metadata": {},
   "outputs": [],
   "source": []
  }
 ],
 "metadata": {
  "kernelspec": {
   "display_name": "Python 3",
   "language": "python",
   "name": "python3"
  },
  "language_info": {
   "codemirror_mode": {
    "name": "ipython",
    "version": 3
   },
   "file_extension": ".py",
   "mimetype": "text/x-python",
   "name": "python",
   "nbconvert_exporter": "python",
   "pygments_lexer": "ipython3",
   "version": "3.8.5"
  }
 },
 "nbformat": 4,
 "nbformat_minor": 4
}
