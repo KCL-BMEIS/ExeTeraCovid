{
 "cells": [
  {
   "cell_type": "code",
   "execution_count": null,
   "metadata": {},
   "outputs": [],
   "source": [
    "!pip install exeteracovid"
   ]
  },
  {
   "cell_type": "code",
   "execution_count": null,
   "metadata": {},
   "outputs": [],
   "source": [
    "source_data = # the dataset from which the patient and assessment data is read\n",
    "dest_data = # the dataset to which the patient and assessment data is written"
   ]
  },
  {
   "cell_type": "code",
   "execution_count": null,
   "metadata": {},
   "outputs": [],
   "source": [
    "from exetera.core.session import Session\n",
    "from exetera.core.utils import Timer\n",
    "\n",
    "# Everything starts creating a session. Using 'with' allows the datasets that we open to\n",
    "# close automatically\n",
    "with Session() as s:\n",
    "    # You can open multiple datasets. It is generally wise to write intermediate results\n",
    "    # to a separate dataset, rather than adding to the base dataset\n",
    "    src = s.open_dataset(source_data, 'r', 'src')\n",
    "    dest = s.open_dataset(dest_data, 'w', 'dest')\n",
    "\n",
    "    # Get the patients and assessments group from the source data, for convenience\n",
    "    s_ptnts = src['patients']\n",
    "    s_asmts = src['assessments']\n",
    "    \n",
    "    # Create the assessments group for the joined data\n",
    "    d_asmts = dest.create_group('assessments')\n",
    "\n",
    "    # When you want to perform a join on a number of fields, it is useful to build a sequence of keys\n",
    "    ptnt_keys = ('age', 'weight_kg', 'height_cm')\n",
    "\n",
    "    # Get the tuple of fields that we want to join\n",
    "    merge_sources = tuple(s.get(s_ptnts[k]) for k in ptnt_keys)\n",
    "    \n",
    "    # Get a tuple of empty fields that we are writing the joined data to\n",
    "    merge_sinks = tuple(s.get(s_ptnts[k]).create_like(d_asmts, k) for k in ptnt_keys)\n",
    "    \n",
    "    # Get the patient 'id' field (primary key) and the assessment 'patient_id' field (foreign key)\n",
    "    p_ids = s.get(s_ptnts['id'])\n",
    "    a_pids = s.get(s_asmts['patient_id'])\n",
    "    \n",
    "    # Note, the merge may take a few minutes to complete!\n",
    "    with Timer(\"merging\"):\n",
    "        s.ordered_merge_left(left_on=a_pids, right_on=p_ids, right_field_sources=merge_sources, left_field_sinks=merge_sinks, right_unique=True)"
   ]
  },
  {
   "cell_type": "code",
   "execution_count": null,
   "metadata": {},
   "outputs": [],
   "source": [
    "import numpy as np\n",
    "from matplotlib import pyplot as plt\n",
    "\n",
    "# Check that the fields were written \n",
    "with Session() as s:\n",
    "    src = s.open_dataset(source_data, 'r', 'src')\n",
    "    dest = s.open_dataset(dest_data, 'r', 'dest')\n",
    "\n",
    "    p_age, p_count = np.unique(s.get(src['patients']['age']).data[:], return_counts=True)\n",
    "    a_age, a_count = np.unique(s.get(dest['assessments']['age']).data[:], return_counts=True)\n",
    "    \n",
    "    fig, ax = plt.subplots(3, 1, figsize=(12, 10))\n",
    "    ax[0].set_xlabel(\"Age in years\")\n",
    "    ax[0].set_ylabel(\"Number of patients\")\n",
    "    ax[0].bar(p_age[:101], p_count[:101])\n",
    "    \n",
    "    ax[1].set_xlabel(\"Age in years\")\n",
    "    ax[1].set_ylabel(\"Number of assessments\")\n",
    "    ax[1].bar(a_age[:101], a_count[:101])\n",
    "    \n",
    "    ax[2].set_xlabel(\"Age in years\")\n",
    "    ax[2].set_ylabel(\"Avg. assessments per patient\")\n",
    "    ax[2].bar(a_age[:101], a_count[:101] / p_count[:101])"
   ]
  }
 ],
 "metadata": {
  "kernelspec": {
   "display_name": "Python 3",
   "language": "python",
   "name": "python3"
  },
  "language_info": {
   "codemirror_mode": {
    "name": "ipython",
    "version": 3
   },
   "file_extension": ".py",
   "mimetype": "text/x-python",
   "name": "python",
   "nbconvert_exporter": "python",
   "pygments_lexer": "ipython3",
   "version": "3.7.3"
  }
 },
 "nbformat": 4,
 "nbformat_minor": 4
}
