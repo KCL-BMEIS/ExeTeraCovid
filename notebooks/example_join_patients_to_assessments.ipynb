{
 "cells": [
  {
   "cell_type": "code",
   "execution_count": null,
   "metadata": {},
   "outputs": [],
   "source": [
    "!pip install exeteracovid"
   ]
  },
  {
   "cell_type": "code",
   "execution_count": 1,
   "metadata": {},
   "outputs": [],
   "source": [
    "source_data = '/home/ben/covid/ds_20201101_full.hdf5'\n",
    "dest_data = '/home/ben/covid/example_out.hdf5'"
   ]
  },
  {
   "cell_type": "code",
   "execution_count": 2,
   "metadata": {},
   "outputs": [
    {
     "name": "stdout",
     "output_type": "stream",
     "text": [
      "merging: completed in 388.443642616272 seconds\n"
     ]
    }
   ],
   "source": [
    "from exetera.core.session import Session\n",
    "from exetera.core.utils import Timer\n",
    "\n",
    "# Everything starts creating a session. Using 'with' allows the datasets that we open to\n",
    "# close automatically\n",
    "with Session() as s:\n",
    "    # You can open multiple datasets. It is generally wise to write intermediate results\n",
    "    # to a separate dataset, rather than adding to the base dataset\n",
    "    src = s.open_dataset(source_data, 'r', 'src')\n",
    "    dest = s.open_dataset(dest_data, 'w', 'dest')\n",
    "\n",
    "    # Get the patients and assessments group from the source data, for convenience\n",
    "    s_ptnts = src['patients']\n",
    "    s_asmts = src['assessments']\n",
    "    \n",
    "    # Create the assessments group for the joined data\n",
    "    d_asmts = dest.create_group('assessments')\n",
    "\n",
    "    # When you want to perform a join on a number of fields, it is useful to build a sequence of keys\n",
    "    ptnt_keys = ('age', 'weight_kg', 'height_cm')\n",
    "\n",
    "    # Get the tuple of fields that we want to join\n",
    "    merge_sources = tuple(s.get(s_ptnts[k]) for k in ptnt_keys)\n",
    "    \n",
    "    # Get a tuple of empty fields that we are writing the joined data to\n",
    "    merge_sinks = tuple(s.get(s_ptnts[k]).create_like(d_asmts, k) for k in ptnt_keys)\n",
    "    \n",
    "    # Get the patient 'id' field (primary key) and the assessment 'patient_id' field (foreign key)\n",
    "    p_ids = s.get(s_ptnts['id'])\n",
    "    a_pids = s.get(s_asmts['patient_id'])\n",
    "    \n",
    "    with Timer(\"merging\"):\n",
    "        s.ordered_merge_left(left_on=a_pids, right_on=p_ids, right_field_sources=merge_sources, left_field_sinks=merge_sinks, right_unique=True)"
   ]
  },
  {
   "cell_type": "code",
   "execution_count": 3,
   "metadata": {},
   "outputs": [
    {
     "name": "stdout",
     "output_type": "stream",
     "text": [
      "['age', 'height_cm', 'weight_kg']\n",
      "(array([   0,    1,    2,    3,    4,    5,    6,    7,    8,    9,   10,\n",
      "         11,   12,   13,   14,   15,   16,   17,   18,   19,   20,   21,\n",
      "         22,   23,   24,   25,   26,   27,   28,   29,   30,   31,   32,\n",
      "         33,   34,   35,   36,   37,   38,   39,   40,   41,   42,   43,\n",
      "         44,   45,   46,   47,   48,   49,   50,   51,   52,   53,   54,\n",
      "         55,   56,   57,   58,   59,   60,   61,   62,   63,   64,   65,\n",
      "         66,   67,   68,   69,   70,   71,   72,   73,   74,   75,   76,\n",
      "         77,   78,   79,   80,   81,   82,   83,   84,   85,   86,   87,\n",
      "         88,   89,   90,   91,   92,   93,   94,   95,   96,   97,   98,\n",
      "         99,  100,  101,  102,  103,  104,  105,  106,  107,  108,  109,\n",
      "        110,  111,  112,  113,  114,  115,  116,  117,  118,  119,  120,\n",
      "       1819, 1821, 1823, 1827, 2001, 2019, 2020], dtype=uint32), array([  82969,  220138,  256975,  328739,  380326,  400474,  418018,\n",
      "        428705,  476300,  506328,  559309,  620125,  671620,  699692,\n",
      "        731127,  753809,  785750,  780996,  773706,  792644,  875953,\n",
      "        973444, 1093014, 1184005, 1247292, 1338326, 1481773, 1593700,\n",
      "       1739359, 1875586, 2029447, 2174900, 2270141, 2364480, 2382532,\n",
      "       2498480, 2540858, 2607576, 2693682, 2800251, 2941851, 3045465,\n",
      "       3011029, 3009246, 3073085, 3202404, 3334423, 3503796, 3794191,\n",
      "       4026343, 4096936, 4164074, 4297507, 4406045, 4529610, 4701089,\n",
      "       4852412, 4832015, 4784165, 4813925, 4929770, 4887469, 5126204,\n",
      "       4954793, 4827446, 4700987, 4701311, 4647107, 4371261, 4082745,\n",
      "       3894440, 3788221, 3636916, 3590294, 2936972, 2055769, 1907036,\n",
      "       1511858, 1194200,  852305,  743804,  629450,  524496,  427048,\n",
      "        359551,  308801,  269148,  222231,  210261,  178353,  168089,\n",
      "        131667,  110744,   86385,   66848,   50890,   39764,   28220,\n",
      "         19831,   12374,    8761,    4106,    2518,    1209,    1235,\n",
      "           396,     567,     313,     219,      24,     301,     478,\n",
      "          1823,     176,    1753,     222,     294,     178,     185,\n",
      "           207,    4224,     163,       1,       1,      33,     736,\n",
      "           710,  278141]))\n"
     ]
    }
   ],
   "source": [
    "import numpy as np\n",
    "\n",
    "# Check that the fields were written \n",
    "with Session() as s:\n",
    "    dest = s.open_dataset(dest_data, 'r', 'dest')\n",
    "    # Print out the keys for this \n",
    "    print([k for k in dest['assessments'].keys()])\n",
    "    print(np.unique(s.get(dest['assessments']['age']).data[:], return_counts=True))"
   ]
  },
  {
   "cell_type": "code",
   "execution_count": null,
   "metadata": {},
   "outputs": [],
   "source": []
  }
 ],
 "metadata": {
  "kernelspec": {
   "display_name": "Python 3",
   "language": "python",
   "name": "python3"
  },
  "language_info": {
   "codemirror_mode": {
    "name": "ipython",
    "version": 3
   },
   "file_extension": ".py",
   "mimetype": "text/x-python",
   "name": "python",
   "nbconvert_exporter": "python",
   "pygments_lexer": "ipython3",
   "version": "3.7.3"
  }
 },
 "nbformat": 4,
 "nbformat_minor": 4
}
