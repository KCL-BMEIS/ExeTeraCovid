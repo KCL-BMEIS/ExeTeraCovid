{
 "cells": [
  {
   "cell_type": "code",
   "execution_count": null,
   "metadata": {},
   "outputs": [],
   "source": [
    "!pip install exetera"
   ]
  },
  {
   "cell_type": "code",
   "execution_count": null,
   "metadata": {},
   "outputs": [],
   "source": [
    "%matplotlib inline\n",
    "from datetime import datetime, timedelta\n",
    "import numpy as np\n",
    "import h5py\n",
    "import matplotlib.pyplot as plt\n",
    "\n",
    "from exetera.core.session import Session\n",
    "\n",
    "# start_date = # datetime(year, month, date), inclusive\n",
    "# end_date = # datetime(year, month, date), exclusive\n",
    "# filename = # file name for source dataset\n",
    "\n",
    "dates = [end_date]\n",
    "cur_date = end_date - timedelta(days=7)\n",
    "while cur_date >= start_date:\n",
    "    dates.append(cur_date)\n",
    "    cur_date -= timedelta(days=7)\n",
    "dates.reverse()"
   ]
  },
  {
   "cell_type": "code",
   "execution_count": null,
   "metadata": {},
   "outputs": [],
   "source": [
    "from collections import defaultdict\n",
    "\n",
    "with Session() as s:\n",
    "    src = s.open_dataset(filename, 'r', 'src')\n",
    "    \n",
    "    t_src = src['tests']\n",
    "    test_created_at_ = s.get(t_src['date_taken_specific']).data[:]\n",
    "    test_results_ = s.get(t_src['result']).data[:]\n",
    "    print(np.unique(test_results_, return_counts=True))\n",
    "    partitions = len(dates)-1\n",
    "    negative_tests_by_range = np.zeros(partitions, dtype=np.int32)\n",
    "    positive_tests_by_range = np.zeros(partitions, dtype=np.int32)\n",
    "\n",
    "    for d in range(partitions):\n",
    "        start_timestamp = dates[d].timestamp()\n",
    "        end_timestamp = dates[d+1].timestamp()\n",
    "        in_current_month = (start_timestamp <= test_created_at_) & (test_created_at_ < end_timestamp)\n",
    "        # print(dates[d], in_current_month.sum())\n",
    "        \n",
    "        monthly_tests = s.apply_filter(in_current_month, test_results_)\n",
    "        \n",
    "        result_counts = np.unique(monthly_tests, return_counts=True)\n",
    "        print(result_counts)\n",
    "        result_counts = defaultdict(int, zip(result_counts[0], result_counts[1]))\n",
    "        print(result_counts)\n",
    "        negative_tests_by_range[d] = result_counts[3]\n",
    "        positive_tests_by_range[d] = result_counts[4]\n"
   ]
  },
  {
   "cell_type": "code",
   "execution_count": null,
   "metadata": {},
   "outputs": [],
   "source": [
    "width = 1\n",
    "widths = [width * d for d in range(partitions)]\n",
    "\n",
    "fig, ax = plt.subplots(2, 1, figsize=(10, 10))\n",
    "\n",
    "negtests = ax[0].bar(widths, negative_tests_by_range)\n",
    "postests = ax[0].bar(widths, positive_tests_by_range, bottom=negative_tests_by_range)\n",
    "\n",
    "ax[0].set_title(\"COVID-19 test results, by week\")\n",
    "ax[0].set_xticks(np.arange(partitions))\n",
    "ax[0].set_xticklabels([datetime.strftime(d, '%Y-%m-%d') for d in dates[:-1]], rotation=270)\n",
    "ax[0].legend((negtests, postests), (\"Negative tests\", \"Positive tests\"))\n",
    "ax[0].set_xlabel(\"Week starting\")\n",
    "ax[0].set_ylabel(\"Tests per week\")\n",
    "\n",
    "pos_fraction = positive_tests_by_range / (positive_tests_by_range + negative_tests_by_range)\n",
    "pfbar = ax[1].bar(widths, pos_fraction, color=\"#ff7f0e\")\n",
    "\n",
    "ax[1].set_title(\"COVID-19 positive tests by fraction of test results, by week\")\n",
    "ax[1].set_xticks(np.arange(partitions))\n",
    "ax[1].set_xticklabels([datetime.strftime(d, '%Y-%m-%d') for d in dates[:-1]], rotation=270)\n",
    "ax[1].legend((pfbar,), (\"Positive test fraction\",))\n",
    "ax[1].set_xlabel(\"Week starting\")\n",
    "ax[1].set_ylabel(\"Positive test fraction\")\n",
    "\n",
    "fig.tight_layout(h_pad=2.5)\n",
    "fig.show()\n"
   ]
  },
  {
   "cell_type": "code",
   "execution_count": null,
   "metadata": {},
   "outputs": [],
   "source": []
  }
 ],
 "metadata": {
  "kernelspec": {
   "display_name": "Python 3",
   "language": "python",
   "name": "python3"
  },
  "language_info": {
   "codemirror_mode": {
    "name": "ipython",
    "version": 3
   },
   "file_extension": ".py",
   "mimetype": "text/x-python",
   "name": "python",
   "nbconvert_exporter": "python",
   "pygments_lexer": "ipython3",
   "version": "3.7.3"
  }
 },
 "nbformat": 4,
 "nbformat_minor": 4
}
