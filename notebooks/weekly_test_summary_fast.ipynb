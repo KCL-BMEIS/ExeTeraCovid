{
 "cells": [
  {
   "cell_type": "markdown",
   "id": "informational-trail",
   "metadata": {},
   "source": [
    "# Fast generation of positive and negative test result counts by period"
   ]
  },
  {
   "cell_type": "code",
   "execution_count": null,
   "id": "afraid-relay",
   "metadata": {},
   "outputs": [],
   "source": [
    "%matplotlib inline\n",
    "import math\n",
    "\n",
    "import numpy as np\n",
    "from numba import njit\n",
    "import matplotlib.pyplot as plt\n",
    "\n",
    "from exetera.core.session import Session\n",
    "from exetera.core.utils import Timer\n",
    "from exetera.processing.date_time_helpers import\\\n",
    "    get_periods, generate_period_offset_map, get_days, get_period_offsets"
   ]
  },
  {
   "cell_type": "markdown",
   "id": "continent-english",
   "metadata": {},
   "source": [
    "### Helper functions"
   ]
  },
  {
   "cell_type": "code",
   "execution_count": null,
   "id": "familiar-adrian",
   "metadata": {},
   "outputs": [],
   "source": [
    "def human_readable_date(date):\n",
    "    '''\n",
    "    Transfer the float timestamp to a string representated date.\n",
    "    '''\n",
    "    if isinstance(date, float):\n",
    "        date = datetime.fromtimestamp(date)\n",
    "    return date.strftime(\"%Y-%m-%d\")"
   ]
  },
  {
   "cell_type": "markdown",
   "id": "interested-cause",
   "metadata": {},
   "source": [
    "## Fill in these parameters"
   ]
  },
  {
   "cell_type": "code",
   "execution_count": null,
   "id": "usual-shoot",
   "metadata": {},
   "outputs": [],
   "source": [
    "from datetime import datetime, timedelta\n",
    "\n",
    "filename = # filename\n",
    "start_dt = # the starting datetime\n",
    "end_dt = # the ending datetime"
   ]
  },
  {
   "cell_type": "markdown",
   "id": "domestic-waterproof",
   "metadata": {},
   "source": [
    "## Generate the summaries by seven day period"
   ]
  },
  {
   "cell_type": "markdown",
   "id": "relevant-forest",
   "metadata": {},
   "source": [
    "### Generate the seven day periods corresponding to the start and end dates"
   ]
  },
  {
   "cell_type": "code",
   "execution_count": null,
   "id": "usual-conspiracy",
   "metadata": {},
   "outputs": [],
   "source": [
    "# Trunk the dates range into seven-day periods\n",
    "start_ts = start_dt.timestamp()\n",
    "end_ts = end_dt.timestamp()\n",
    "periods = get_periods(end_dt, start_dt, 'week', -1)\n",
    "periods.reverse()\n",
    "print(\"Weekly periods from {} to {}\".format(human_readable_date(periods[0]),\n",
    "                                            human_readable_date(periods[-1])))"
   ]
  },
  {
   "cell_type": "markdown",
   "id": "august-canon",
   "metadata": {},
   "source": [
    "### Create the Session object\n",
    "Note, you can also use `with Session() as s:` if you don't mind opening the session in each cell"
   ]
  },
  {
   "cell_type": "code",
   "execution_count": null,
   "id": "joint-circuit",
   "metadata": {},
   "outputs": [],
   "source": [
    "s = Session()  # Open the ExeTera session\n",
    "src = s.open_dataset(filename, 'r', 'src')  # Open the dataset with read-only 'r' mode\n",
    "test_df = src['tests']  # Get the dataframe named 'tests'"
   ]
  },
  {
   "cell_type": "markdown",
   "id": "referenced-seafood",
   "metadata": {},
   "source": [
    "### Get the timestamp for each user signup"
   ]
  },
  {
   "cell_type": "code",
   "execution_count": null,
   "id": "charged-textbook",
   "metadata": {},
   "outputs": [],
   "source": [
    "with Timer(\"Fetching test 'date_taken_specific' values\"):  # Record the time usage\n",
    "    test_dates = test_df['date_taken_specific'].data[:]  # Load all the data into memory"
   ]
  },
  {
   "cell_type": "markdown",
   "id": "protective-duration",
   "metadata": {},
   "source": [
    "### Calculate on what day (relative to the start of the first period) each user signed up\n",
    "`get_days` also returns a filter indicating whether a given record is within the date range of interest"
   ]
  },
  {
   "cell_type": "code",
   "execution_count": null,
   "id": "dangerous-uganda",
   "metadata": {},
   "outputs": [],
   "source": [
    "with Timer(\"Calculating day offsets for tests\"):  # Record the time usage\n",
    "    # Converts a field of timestamps into a field of relative elapsed days\n",
    "    test_days, inrange = get_days(test_dates,  \n",
    "                                  start_date=periods[0].timestamp(),\n",
    "                                  end_date=periods[-1].timestamp())"
   ]
  },
  {
   "cell_type": "markdown",
   "id": "sonic-browse",
   "metadata": {},
   "source": [
    "### Clear the days that fall outside of the specified range"
   ]
  },
  {
   "cell_type": "code",
   "execution_count": null,
   "id": "plain-consultation",
   "metadata": {},
   "outputs": [],
   "source": [
    "with Timer(\"Filter out days that fall outside of the specified range\"):\n",
    "    test_days = test_days[inrange]"
   ]
  },
  {
   "cell_type": "markdown",
   "id": "incredible-supervisor",
   "metadata": {},
   "source": [
    "### Map the days to their corresponding periods\n",
    "We generate the map using `generate_period_offset_map` and then pass it to `generate_period_offsets`"
   ]
  },
  {
   "cell_type": "code",
   "execution_count": null,
   "id": "mature-amplifier",
   "metadata": {},
   "outputs": [],
   "source": [
    "with Timer(\"Convert from days to periods\"):\n",
    "    test_periods = get_period_offsets(generate_period_offset_map(periods),\n",
    "                                      test_days)\n",
    "    # cat_counts = np.unique(cat_period, return_counts=True)"
   ]
  },
  {
   "cell_type": "markdown",
   "id": "alleged-principle",
   "metadata": {},
   "source": [
    "### Generate 'positive' and 'negative' test filters\n",
    "Ignore all other test results"
   ]
  },
  {
   "cell_type": "code",
   "execution_count": null,
   "id": "pediatric-enough",
   "metadata": {},
   "outputs": [],
   "source": [
    "with Timer(\"Generate positive and negative status arrays\"):\n",
    "    positive = test_df['result'].apply_filter(inrange) == 4  # Filter created according to data value defined in scheme\n",
    "    negative = test_df['result'].apply_filter(inrange) == 3"
   ]
  },
  {
   "cell_type": "markdown",
   "id": "upset-static",
   "metadata": {},
   "source": [
    "### Summarise positive and negative by period"
   ]
  },
  {
   "cell_type": "code",
   "execution_count": null,
   "id": "arbitrary-proxy",
   "metadata": {},
   "outputs": [],
   "source": [
    "with Timer(\"Summarise positive and negative test counts by period\"):\n",
    "    negative_counts = np.unique(test_periods[negative.data[:]], return_counts=True)  # Count number of negative tests in each period\n",
    "    all_negative_counts = np.zeros(len(periods), dtype=np.int32)\n",
    "    for k, v in zip(negative_counts[0], negative_counts[1]):\n",
    "        all_negative_counts[k] = v  # Assign the counts to an array\n",
    "\n",
    "    positive_counts = np.unique(test_periods[positive.data[:]], return_counts=True)  # Similar to positive tests\n",
    "    all_positive_counts = np.zeros(len(periods), dtype=np.int32)\n",
    "    for k, v in zip(positive_counts[0], positive_counts[1]):\n",
    "        all_positive_counts[k] = v"
   ]
  },
  {
   "cell_type": "markdown",
   "id": "statewide-movement",
   "metadata": {},
   "source": [
    "## Generate the charts for positive / (positive + negative) test results"
   ]
  },
  {
   "cell_type": "code",
   "execution_count": null,
   "id": "scenic-release",
   "metadata": {},
   "outputs": [],
   "source": [
    "width = 1\n",
    "widths = [width * d for d in range(len(periods))]\n",
    "\n",
    "fig, ax = plt.subplots(2, 1, figsize=(10, 10))\n",
    "\n",
    "negtests = ax[0].bar(widths, all_negative_counts)\n",
    "postests = ax[0].bar(widths, all_positive_counts, bottom=all_negative_counts)\n",
    "\n",
    "ax[0].set_title(\"Negative and positive test counts by week\")\n",
    "ax[0].set_xticks(np.arange(len(periods)-1))\n",
    "ax[0].set_xticklabels([human_readable_date(d) for d in periods[:-1]], rotation=270)\n",
    "ax[0].legend((negtests, postests), (\"'Negative'\", \"'Positive'\"))\n",
    "ax[0].set_xlabel(\"Week starting\")\n",
    "ax[0].set_ylabel(\"Tests per week\")\n",
    "\n",
    "all_counts = all_negative_counts + all_positive_counts\n",
    "all_counts = np.where(all_counts == 0, 1, all_counts)\n",
    "\n",
    "pos_fraction = all_positive_counts / all_counts\n",
    "pfbar = ax[1].bar(widths, pos_fraction, color=\"#ff7f0e\")\n",
    "\n",
    "ax[1].set_title(\"Positive tests by fraction of all definite results by week\")\n",
    "ax[1].set_xticks(np.arange(len(periods)-1))\n",
    "ax[1].set_xticklabels([human_readable_date(d) for d in periods[:-1]], rotation=270)\n",
    "ax[1].legend((pfbar,), (\"Positive test fraction\",))\n",
    "ax[1].set_xlabel(\"Week starting\")\n",
    "ax[1].set_ylabel(\"Positive test fraction\")\n",
    "\n",
    "fig.tight_layout(h_pad=2.5)\n",
    "plt.show()"
   ]
  },
  {
   "cell_type": "code",
   "execution_count": null,
   "id": "identified-birmingham",
   "metadata": {},
   "outputs": [],
   "source": [
    "# Close the session manually; not needed if opening the session using 'with' statement.\n",
    "s.close()"
   ]
  }
 ],
 "metadata": {
  "kernelspec": {
   "display_name": "Python 3",
   "language": "python",
   "name": "python3"
  },
  "language_info": {
   "codemirror_mode": {
    "name": "ipython",
    "version": 3
   },
   "file_extension": ".py",
   "mimetype": "text/x-python",
   "name": "python",
   "nbconvert_exporter": "python",
   "pygments_lexer": "ipython3",
   "version": "3.8.5"
  }
 },
 "nbformat": 4,
 "nbformat_minor": 5
}
