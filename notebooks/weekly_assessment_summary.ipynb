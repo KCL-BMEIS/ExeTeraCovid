{
 "cells": [
  {
   "cell_type": "code",
   "execution_count": null,
   "metadata": {},
   "outputs": [],
   "source": [
    "!pip install exetera"
   ]
  },
  {
   "cell_type": "code",
   "execution_count": null,
   "metadata": {},
   "outputs": [],
   "source": [
    "%matplotlib inline\n",
    "from datetime import datetime, timedelta\n",
    "import numpy as np\n",
    "import h5py\n",
    "import matplotlib.pyplot as plt\n",
    "\n",
    "from exetera.core.session import Session\n",
    "\n",
    "start_date = # datetime(year, month, date), inclusive\n",
    "end_date = # datetime(year, month, date), exclusive\n",
    "filename = # file name for source dataset\n",
    "\n",
    "dates = [end_date]\n",
    "cur_date = end_date - timedelta(days=7)\n",
    "while cur_date >= start_date:\n",
    "    dates.append(cur_date)\n",
    "    cur_date -= timedelta(days=7)\n",
    "dates.reverse()"
   ]
  },
  {
   "cell_type": "code",
   "execution_count": null,
   "metadata": {},
   "outputs": [],
   "source": [
    "with h5py.File(filename, 'r') as src:\n",
    "    s = Session()\n",
    "    a_src = src['assessments']\n",
    "    asmt_created_at_ = s.get(a_src['created_at']).data[:]\n",
    "    asmt_healthy_ = s.get(a_src['health_status']).data[:]\n",
    "    partitions = len(dates)-1\n",
    "    healthy_asmts_by_range = np.zeros(partitions, dtype=np.int32)\n",
    "    unhealthy_asmts_by_range = np.zeros(partitions, dtype=np.int32)\n",
    "\n",
    "    for d in range(partitions):\n",
    "        print(\"period starting {}\".format(dates[d]))\n",
    "        start_timestamp = dates[d].timestamp()\n",
    "        end_timestamp = dates[d+1].timestamp()\n",
    "        in_current_month = (start_timestamp <= asmt_created_at_) & (asmt_created_at_ < end_timestamp)\n",
    "        \n",
    "        tests_by_range = s.apply_filter(in_current_month, asmt_healthy_)\n",
    "        \n",
    "        result_counts = np.unique(tests_by_range, return_counts=True)\n",
    "        if len(result_counts[0]) == 0:\n",
    "            healthy_asmts_by_range[d] = 0\n",
    "            unhealthy_asmts_by_range[d] = 0\n",
    "        else:\n",
    "            result_counts = dict(zip(result_counts[0], result_counts[1]))\n",
    "            healthy_asmts_by_range[d] = result_counts[0] + result_counts[1]\n",
    "            unhealthy_asmts_by_range[d] = result_counts[2]\n"
   ]
  },
  {
   "cell_type": "code",
   "execution_count": null,
   "metadata": {},
   "outputs": [],
   "source": [
    "width = 1\n",
    "widths = [width * d for d in range(partitions)]\n",
    "\n",
    "fig, ax = plt.subplots(2, 1, figsize=(10, 10))\n",
    "\n",
    "negtests = ax[0].bar(widths, healthy_asmts_by_range)\n",
    "postests = ax[0].bar(widths, unhealthy_asmts_by_range, bottom=healthy_asmts_by_range)\n",
    "\n",
    "ax[0].set_title(\"Assessment counts by week\")\n",
    "ax[0].set_xticks(np.arange(partitions))\n",
    "ax[0].set_xticklabels([datetime.strftime(d, '%Y-%m-%d') for d in dates[:-1]], rotation=270)\n",
    "ax[0].set_yticks(np.arange(10) * 1000000)\n",
    "ax[0].set_yticklabels(i for i in range(10))\n",
    "ax[0].legend((negtests, postests), (\"'Healthy'\", \"'Unhealthy'\"))\n",
    "ax[0].set_xlabel(\"Week starting\")\n",
    "ax[0].set_ylabel(\"Million tests per week\")\n",
    "\n",
    "pos_fraction = unhealthy_asmts_by_range / (unhealthy_asmts_by_range + healthy_asmts_by_range)\n",
    "pfbar = ax[1].bar(widths, pos_fraction, color=\"#ff7f0e\")\n",
    "\n",
    "ax[1].set_title(\"'Unhealthy' assessments as a fraction of assessments by week\")\n",
    "ax[1].set_xticks(np.arange(partitions))\n",
    "ax[1].set_xticklabels([datetime.strftime(d, '%Y-%m-%d') for d in dates[:-1]], rotation=270)\n",
    "ax[1].legend((pfbar,), (\"Positive test fraction\",))\n",
    "ax[1].set_xlabel(\"Week starting\")\n",
    "ax[1].set_ylabel(\"'Unhealthy' assessment fraction\")\n",
    "\n",
    "fig.tight_layout(h_pad=2.5)\n",
    "plt.show()"
   ]
  }
 ],
 "metadata": {
  "kernelspec": {
   "display_name": "Python 3",
   "language": "python",
   "name": "python3"
  },
  "language_info": {
   "codemirror_mode": {
    "name": "ipython",
    "version": 3
   },
   "file_extension": ".py",
   "mimetype": "text/x-python",
   "name": "python",
   "nbconvert_exporter": "python",
   "pygments_lexer": "ipython3",
   "version": "3.7.3"
  }
 },
 "nbformat": 4,
 "nbformat_minor": 4
}
