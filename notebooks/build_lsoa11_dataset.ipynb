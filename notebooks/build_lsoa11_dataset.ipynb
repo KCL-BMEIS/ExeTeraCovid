{
 "cells": [
  {
   "cell_type": "markdown",
   "metadata": {},
   "source": [
    "# Build LSOA data for England and Wales"
   ]
  },
  {
   "cell_type": "markdown",
   "metadata": {},
   "source": [
    "## Step 1: Fetch the source datasets from their respective URLs"
   ]
  },
  {
   "cell_type": "code",
   "execution_count": null,
   "metadata": {},
   "outputs": [],
   "source": [
    "! wget -O imd.xlsx https://assets.publishing.service.gov.uk/government/uploads/system/uploads/attachment_data/file/833970/File_1_-_IMD2019_Index_of_Multiple_Deprivation.xlsx\n",
    "! wget -O rural_urban.csv http://geoportal1-ons.opendata.arcgis.com/datasets/276d973d30134c339eaecfc3c49770b3_0.csv\n",
    "! wget -O townsend.csv http://s3-eu-west-1.amazonaws.com/statistics.digitalresources.jisc.ac.uk/dkan/files/Townsend_Deprivation_Scores/Scores/Scores-%202011%20UK%20LSOA.csv"
   ]
  },
  {
   "cell_type": "markdown",
   "metadata": {},
   "source": [
    "## Step 2: Set the path and name of the output exetera dataset"
   ]
  },
  {
   "cell_type": "code",
   "execution_count": null,
   "metadata": {},
   "outputs": [],
   "source": [
    "lsoa_dataset_name = # resulting dataset name here"
   ]
  },
  {
   "cell_type": "markdown",
   "metadata": {},
   "source": [
    "## Step 3: Create the dataset from the source csv and excel files"
   ]
  },
  {
   "cell_type": "code",
   "execution_count": null,
   "metadata": {},
   "outputs": [],
   "source": [
    "import numpy as np\n",
    "import pandas as pd\n",
    "from exetera.core.session import Session\n",
    "from exetera.core.utils import Timer\n",
    "\n",
    "with Timer(\"Creating joined imd, townsend and rural_urban dataset\", new_line=True):\n",
    "    imd_df = pd.read_excel('./imd.xlsx', sheet_name=1)\n",
    "    tsend_df = pd.read_csv('./townsend.csv')\n",
    "    ruc_df = pd.read_csv('./rural_urban.csv')\n",
    "\n",
    "    imd_df = imd_df.rename(columns={\"LSOA code (2011)\": \"lsoa11cd\",\n",
    "                                    \"LSOA name (2011)\": \"lsoa11nm\",\n",
    "                                    \"Index of Multiple Deprivation (IMD) Rank\": \"imd_rank\",\n",
    "                                    \"Index of Multiple Deprivation (IMD) Decile\": \"imd_decile\"})\n",
    "    imd_df = imd_df.drop(columns=[c for c in imd_df.columns if c not in (\"lsoa11cd\", \"lsoa11nm\", \"imd_rank\", \"imd_decile\")])\n",
    "    print(imd_df)\n",
    "\n",
    "    tsend_df = tsend_df.rename(columns={\"GEO_CODE\": \"lsoa11cd\", \"TDS\": \"townsend_score\", \"quintile\": \"townsend_quintile\"})\n",
    "    tsend_df = tsend_df.drop(columns=[c for c in tsend_df.columns if c not in (\"lsoa11cd\", \"townsend_score\", \"townsend_quintile\")])\n",
    "\n",
    "    ruc_df = ruc_df.rename(columns={\"LSOA11CD\": \"lsoa11cd\", \"RUC11CD\": \"ruc11cd\", \"RUC11\": \"ruc11desc\"})\n",
    "    ruc_df = ruc_df.drop(columns=[c for c in ruc_df.columns if c not in (\"lsoa11cd\", \"ruc11cd\", \"ruc11desc\")])\n",
    "\n",
    "    imd_tsend_df = pd.merge(left_on=\"lsoa11cd\", right_on=\"lsoa11cd\", left=imd_df, right=tsend_df, how=\"outer\")\n",
    "    imd_tsend_ruc_df = pd.merge(left_on=\"lsoa11cd\", right_on=\"lsoa11cd\", left=imd_tsend_df, right=ruc_df, how=\"outer\")\n",
    "\n",
    "    imd_filter = np.logical_not(imd_tsend_ruc_df[\"imd_rank\"].isnull().to_numpy())\n",
    "    townsend_filter = np.logical_not(imd_tsend_ruc_df[\"townsend_score\"].isnull().to_numpy())\n",
    "    ruc_filter = np.logical_not(imd_tsend_ruc_df[\"ruc11cd\"].isnull().to_numpy())\n",
    "\n",
    "with Session() as s:\n",
    "    with Timer(\"Importing data to '{}''\".format(lsoa_dataset_name), new_line=True):\n",
    "        lsoa = s.open_dataset(lsoa_dataset_name, 'w', 'lsoa')\n",
    "        lsoa = lsoa.create_group('lsoa11')\n",
    "        lsoa11cd_len = imd_tsend_ruc_df['lsoa11cd'].map(len).max()\n",
    "        s.create_fixed_string(lsoa, 'lsoa11cd', lsoa11cd_len).data.write(\n",
    "            imd_tsend_ruc_df['lsoa11cd'].to_numpy('S{}'.format(lsoa11cd_len)))\n",
    "\n",
    "        s.create_indexed_string(lsoa, 'lsoa11nm').data.write(\n",
    "            imd_tsend_ruc_df['lsoa11nm'].fillna('').to_list())\n",
    "\n",
    "        s.create_numeric(lsoa, 'imd_rank', 'int32').data.write(\n",
    "            imd_tsend_ruc_df['imd_rank'].fillna(-1))\n",
    "\n",
    "        s.create_numeric(lsoa, 'imd_decile', 'int8').data.write(\n",
    "            imd_tsend_ruc_df['imd_decile'].fillna(-1))\n",
    "\n",
    "        s.create_numeric(lsoa, 'townsend_score', 'float32').data.write(\n",
    "            imd_tsend_ruc_df['townsend_score'].fillna(np.inf))\n",
    "\n",
    "        s.create_numeric(lsoa, 'townsend_quintile', 'int8').data.write(\n",
    "            imd_tsend_ruc_df['townsend_quintile'].fillna(-1))\n",
    "\n",
    "        unique_combs = set()\n",
    "        for i in range(len(imd_tsend_ruc_df)):\n",
    "            unique_combs.add((imd_tsend_ruc_df['ruc11cd'][i], imd_tsend_ruc_df['ruc11desc'][i]))\n",
    "\n",
    "        ruc11cd = imd_tsend_ruc_df['ruc11cd'].fillna('')\n",
    "        ruc_map = {'': 0, 'A1': 1, 'B1': 2, 'C1': 3, 'C2': 4, 'D1': 5, 'D2': 6, 'E1': 7, 'E2': 8}\n",
    "        ruc11cd_cat = np.zeros(len(ruc11cd))\n",
    "        for i in range(len(ruc11cd)):\n",
    "            ruc11cd_cat[i] = ruc_map[ruc11cd[i]]\n",
    "        s.create_categorical(lsoa, 'ruc11cd', 'int8', ruc_map).data.write(ruc11cd_cat)\n",
    "\n",
    "        ruc11desc = imd_tsend_ruc_df['ruc11desc'].fillna('')\n",
    "        rucdesc_map = {'': 0, 'Urban major conurbation': 1, 'Urban minor conurbation': 2,\n",
    "                       'Urban city and town': 3, 'Urban city and town in a sparse setting': 4,\n",
    "                       'Rural town and fringe': 5, 'Rural town and fringe in a sparse setting': 6,\n",
    "                       'Rural village and dispersed': 7,  'Rural village and dispersed in a sparse setting': 8}\n",
    "        ruc11desc_cat = np.zeros(len(ruc11desc))\n",
    "        for i in range(len(ruc11desc)):\n",
    "            ruc11desc_cat[i] = rucdesc_map[ruc11desc[i]]\n",
    "        s.create_categorical(lsoa, 'ruc11desc', 'int8', rucdesc_map).data.write(ruc11desc_cat)\n",
    "\n",
    "        s.create_numeric(lsoa, 'has_imd_data', 'bool').data.write(imd_filter)\n",
    "        print(\"imd data for {} of {} entries\".format(imd_filter.sum(), len(imd_filter)))\n",
    "        s.create_numeric(lsoa, 'has_townsend_data', 'bool').data.write(townsend_filter)\n",
    "        print(\"townsend data for {} of {} entries\".format(townsend_filter.sum(), len(townsend_filter)))\n",
    "        s.create_numeric(lsoa, 'has_rural_urban_data', 'bool').data.write(ruc_filter)\n",
    "        print(\"ruc data for {} of {} entries\".format(ruc_filter.sum(), len(ruc_filter)))\n",
    "\n",
    "    with Timer(\"sorting data by lsoa11cd\", new_line=True):\n",
    "        s.sort_on(lsoa, lsoa, ('lsoa11cd',))"
   ]
  }
 ],
 "metadata": {
  "kernelspec": {
   "display_name": "Python 3",
   "language": "python",
   "name": "python3"
  },
  "language_info": {
   "codemirror_mode": {
    "name": "ipython",
    "version": 3
   },
   "file_extension": ".py",
   "mimetype": "text/x-python",
   "name": "python",
   "nbconvert_exporter": "python",
   "pygments_lexer": "ipython3",
   "version": "3.7.3"
  }
 },
 "nbformat": 4,
 "nbformat_minor": 4
}
